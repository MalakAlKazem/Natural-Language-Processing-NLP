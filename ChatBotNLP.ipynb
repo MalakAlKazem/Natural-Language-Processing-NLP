{
 "cells": [
  {
   "cell_type": "code",
   "execution_count": null,
   "id": "6708ca19-2790-4fc0-b9ba-d6af951b3a91",
   "metadata": {},
   "outputs": [],
   "source": [
    "!pip install nltk"
   ]
  },
  {
   "cell_type": "code",
   "execution_count": null,
   "id": "4dc96512-e66b-4053-8b99-140b7ecf84ee",
   "metadata": {},
   "outputs": [
    {
     "name": "stdout",
     "output_type": "stream",
     "text": [
      "Hello! I'm a simple chatbot for an NLP porject.\n"
     ]
    },
    {
     "name": "stdout",
     "output_type": "stream",
     "text": [
      "You:  hi\n"
     ]
    },
    {
     "name": "stdout",
     "output_type": "stream",
     "text": [
      "Bot: Hello!\n"
     ]
    },
    {
     "name": "stdout",
     "output_type": "stream",
     "text": [
      "You:  best doctor?\n"
     ]
    },
    {
     "name": "stdout",
     "output_type": "stream",
     "text": [
      "Bot: None\n"
     ]
    },
    {
     "name": "stdout",
     "output_type": "stream",
     "text": [
      "You:  best\n"
     ]
    },
    {
     "name": "stdout",
     "output_type": "stream",
     "text": [
      "Bot: None\n"
     ]
    },
    {
     "name": "stdout",
     "output_type": "stream",
     "text": [
      "You:  best one?\n"
     ]
    },
    {
     "name": "stdout",
     "output_type": "stream",
     "text": [
      "Bot: Doctor Mariam is the best\n"
     ]
    },
    {
     "name": "stdout",
     "output_type": "stream",
     "text": [
      "You:  NLP\n"
     ]
    },
    {
     "name": "stdout",
     "output_type": "stream",
     "text": [
      "Bot: Natural Language Processing (NLP) is a field of artificial intelligence that focuses on the interaction between computers and humans through natural language. It involves the development of algorithms and models to understand, interpret, and generate human-like language.\n"
     ]
    },
    {
     "name": "stdout",
     "output_type": "stream",
     "text": [
      "You:  chatbot\n"
     ]
    },
    {
     "name": "stdout",
     "output_type": "stream",
     "text": [
      "Bot: None\n"
     ]
    },
    {
     "name": "stdout",
     "output_type": "stream",
     "text": [
      "You:  chatbots\n"
     ]
    },
    {
     "name": "stdout",
     "output_type": "stream",
     "text": [
      "Bot: Chatbots use NLP techniques to understand and respond to user inputs. They analyze text, identify user intent, and generate appropriate responses. Some chatbots use pre-defined rules, while others leverage machine learning models to improve their responses over time.\n"
     ]
    }
   ],
   "source": [
    "import nltk\n",
    "from nltk.chat.util import Chat, reflections\n",
    "\n",
    "# Define patterns and responses\n",
    "patterns = [\n",
    "    (r'hello|hi|hey', ['Hello!', 'Hi there!', 'Hey!']),\n",
    "    (r'how are you', ['I am doing well, thank you!', 'I am fine, thanks for asking.']),\n",
    "    (r'what is your name', ['I am a chatbot.', 'You can call me MRGPT.']),\n",
    "     (r'what is my name', ['you are malak.', 'You are reem','either malak or reem']),\n",
    "    (r'quit|exit|bye|goodbye|cya', ['Goodbye!', 'See you later!']),\n",
    "    (r'how are you doing|how are you|how r u', ['I am doing well, thank you!', 'I am fine, thanks for asking.']),\n",
    "    (r'what can you do', ['I can answer questions and have simple conversations.', 'I am here to chat with you.']),\n",
    "    (r'your favorite (.*)', ['I don\\'t have preferences as I am just a computer program.', 'I don\\'t have personal favorites.']),\n",
    "    (r'(.*) (weather|temperature) (.*)', ['I\\'m sorry, I don\\'t have the ability to check the weather.']),\n",
    "    (r'who created you', ['I was created by Malak&Reem.', 'I am a product of OpenAI\\'s research.']),\n",
    "    (r'(.*) help (.*)', ['I can certainly try to help. What do you need assistance with?']),\n",
    "    (r'(.*) (thanks|thank you)', ['You\\'re welcome!', 'No problem.']),\n",
    "    (r'who is the best doctor|best one?|your best one|your best?', ['Doctor Mariam is the best']),\n",
    "    (r'what is our project', ['Chatbot in NLP']),\n",
    "    (r'whom do you love?', ['I love Doctor Mariam']),\n",
    "     (r'how old are you', ['I don\\'t have an age. I exist in the realm of code.']),\n",
    "    (r'where are you from', ['I don\\'t have a physical location. I\\'m here to assist you.']),\n",
    "    (r'what do you like to do', ['My main purpose is to help and chat with you.']),\n",
    "    (r'tell me a joke', ['Sure, here\\'s one: Why don\\'t scientists trust atoms? Because they make up everything!']),\n",
    "    (r'favorite color', ['I don\\'t see colors, but I appreciate a good rainbow of data.']),\n",
    "    (r'what languages do you speak', ['I understand and speak the language of code.']),\n",
    "    (r'who is your favorite superhero', ['I admire superheroes in all forms.']),\n",
    "    (r'tell me something interesting', ['Did you know that honey never spoils? Archaeologists have found pots of honey in ancient Egyptian tombs that are over 3,000 years old and still perfectly edible.']),\n",
    "    (r'what is the meaning of life', ['The meaning of life is a subjective and philosophical question. Some say it\\'s 42, according to Douglas Adams.']),\n",
    "    (r'can you dance', ['I can only dance in the world of algorithms.']),\n",
    "    (r'what is the capital of (.*)', ['I don\\'t have real-time information, but I can look up facts.']),\n",
    "    (r'who is your arch-enemy', ['I don\\'t have enemies; I\\'m here to assist and chat.']),\n",
    "    (r'are you a human', ['No, I\\'m a machine learning model designed to chat with you.']),\n",
    "    (r'can you sing', ['I can generate text, but unfortunately, I can\\'t carry a tune.']),\n",
    "    (r'what is NLP|NLP?|NLP|nlp', ['Natural Language Processing (NLP) is a field of artificial intelligence that focuses on the interaction between computers and humans through natural language. It involves the development of algorithms and models to understand, interpret, and generate human-like language.']),\n",
    "    (r'explain NLP', ['NLP, or Natural Language Processing, is a branch of AI that deals with the interaction between computers and human language. It involves tasks such as text understanding, sentiment analysis, and language generation.']),\n",
    "    (r'how do chatbots work|chatbots', ['Chatbots use NLP techniques to understand and respond to user inputs. They analyze text, identify user intent, and generate appropriate responses. Some chatbots use pre-defined rules, while others leverage machine learning models to improve their responses over time.']),\n",
    "    (r'what are chatbots', ['Chatbots are computer programs designed to simulate conversation with human users, especially over the internet. They can be used for various purposes, including customer support, information retrieval, and entertainment.']),\n",
    "    (r'how are chatbots created', ['Chatbots can be created using programming languages and frameworks. They often involve the use of NLP libraries and machine learning models to understand and generate human-like responses.']),\n",
    "    (r'give an example of a chatbot', ['An example of a chatbot is a virtual assistant, like Siri or Google Assistant, which can understand and respond to voice or text-based commands to perform tasks or provide information.']),\n",
    "    (r'why use chatbots', ['Chatbots are used to automate conversations, provide instant responses, and enhance user experiences. They can handle repetitive tasks, answer frequently asked questions, and improve efficiency in various applications.']),\n",
    "]\n",
    "\n",
    "# Create a Chat object\n",
    "chatbot = Chat(patterns, reflections)\n",
    "\n",
    "# Start the conversation\n",
    "print(\"Hello! I'm a simple chatbot for an NLP porject.\")\n",
    "while True:\n",
    "    user_input = input(\"You: \")\n",
    "    if user_input.lower() in ['quit', 'exit','bye','goodbye','cya']:\n",
    "        print(\"Goodbye!\")\n",
    "        break\n",
    "    response = chatbot.respond(user_input)\n",
    "    print(\"Bot:\", response)"
   ]
  }
 ],
 "metadata": {
  "kernelspec": {
   "display_name": "Python 3 (ipykernel)",
   "language": "python",
   "name": "python3"
  },
  "language_info": {
   "codemirror_mode": {
    "name": "ipython",
    "version": 3
   },
   "file_extension": ".py",
   "mimetype": "text/x-python",
   "name": "python",
   "nbconvert_exporter": "python",
   "pygments_lexer": "ipython3",
   "version": "3.12.0"
  }
 },
 "nbformat": 4,
 "nbformat_minor": 5
}
